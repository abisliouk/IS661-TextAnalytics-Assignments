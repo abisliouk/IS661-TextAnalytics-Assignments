{
 "cells": [
  {
   "cell_type": "markdown",
   "id": "c295abce",
   "metadata": {},
   "source": [
    "Text Analytics I HWS 23/24\n",
    "\n",
    "# Home Assignment 1 (35 pts)\n",
    "\n"
   ]
  },
  {
   "cell_type": "markdown",
   "id": "f6c27e5d",
   "metadata": {},
   "source": [
    "Submit your solution via Ilias until 23.59h on Wednesday, October 4th. Late submissions are accepted until 12:00am on the following day, with 1/4 of the total possible points deducted from the score.\n",
    "\n",
    "Submit your solutions in teams of 3-4 students. Unless explicitly agreed otherwise in advance, **submissions from teams with more or less members will NOT be graded**.\n",
    "List all members of the team with their student ID in the cell below, and submit only one notebook per team. Only submit a notebook, do not submit the dataset(s) you used. Also, do NOT compress/zip your submission!\n",
    "\n",
    "You may use the code from the exercises and basic functionalities that are explained in official documentation of Python packages without citing, __all other sources must be cited__. In case of plagiarism (copying solutions from other teams or from the internet) ALL team members may be expelled from the course without warning."
   ]
  },
  {
   "cell_type": "markdown",
   "id": "56b570d3",
   "metadata": {},
   "source": [
    "#### General guidelines:\n",
    "* Make sure that your code is executable, any task for which the code does not directly run on our machine will be graded with 0 points.\n",
    "* If you use packages that are not available on the default or conda-forge channel, list them below. Also add a link to installation instructions. \n",
    "* Ensure that the notebook does not rely on the current notebook or system state!\n",
    "  * Use `Kernel --> Restart & Run All` to see if you are using any definitions, variables etc. that \n",
    "    are not in scope anymore.\n",
    "  * Do not rename any of the datasets you use, and load it from the same directory that your ipynb-notebook is located in, i.e., your working directory.\n",
    "* Make sure you clean up your code before submission, e.g., properly align your code, and delete every line of code that you do not need anymore, even if you may have experimented with it. Minimize usage of global variables. Avoid reusing variable names multiple times!\n",
    "* Ensure your code/notebook terminates in reasonable time.\n",
    "* Feel free to use comments in the code. While we do not require them to get full marks, they may help us in case your code has minor errors.\n",
    "* For questions that require a textual answer, please do not write the answer as a comment in a code cell, but in a Markdown cell below the code. Always remember to provide sufficient justification for all answers.\n",
    "* You may create as many additional cells as you want, just make sure that the solutions to the individual tasks can be found near the corresponding assignment.\n",
    "* If you have any general question regarding the understanding of some task, do not hesitate to post in the student forum in Ilias, so we can clear up such questions for all students in the course."
   ]
  },
  {
   "cell_type": "code",
   "execution_count": 49,
   "id": "04d29726",
   "metadata": {},
   "outputs": [],
   "source": [
    "# studentIDs of all team members\n",
    "team_members = [1966868,1967897, 1968154, 1978986, 1951865  ]"
   ]
  },
  {
   "cell_type": "markdown",
   "id": "45fedefd",
   "metadata": {},
   "source": [
    "Additional packages (if any):\n",
    " - Example: `powerlaw`, https://github.com/jeffalstott/powerlaw"
   ]
  },
  {
   "cell_type": "code",
   "execution_count": 50,
   "id": "1c2c397d",
   "metadata": {},
   "outputs": [],
   "source": [
    "from typing import List, Union, Dict, Set, Tuple\n",
    "import numpy as np\n",
    "from numpy.typing import NDArray"
   ]
  },
  {
   "cell_type": "markdown",
   "id": "07b9f30f",
   "metadata": {},
   "source": [
    "### Task 1: Regular expressions (9 pts)\n",
    "In this task you are asked to create regular expressions that meet the specified conditions. Please use the ``re`` package for the following subtasks."
   ]
  },
  {
   "cell_type": "code",
   "execution_count": 51,
   "id": "20076392",
   "metadata": {},
   "outputs": [],
   "source": [
    "# import the re package \n",
    "import re"
   ]
  },
  {
   "cell_type": "markdown",
   "id": "c83245d4",
   "metadata": {},
   "source": [
    "__a)__ Write a regular expression that returns all integer numbers from a text that are surrounded by whitespaces. __(1 pt)__ "
   ]
  },
  {
   "cell_type": "code",
   "execution_count": 52,
   "id": "1623b9a9",
   "metadata": {},
   "outputs": [
    {
     "name": "stdout",
     "output_type": "stream",
     "text": [
      "[2, 44]\n"
     ]
    }
   ],
   "source": [
    "# your code here\n",
    "def get_integers_surrounded_by_whitespace(s: str) -> List[int]:\n",
    "    return [int(i) for i in re.findall(r'(?<=\\s)\\d+(?=\\s)', s)]\n",
    "\n",
    "print(get_integers_surrounded_by_whitespace(\"1 2 3w 44 5.5 two\"))"
   ]
  },
  {
   "cell_type": "markdown",
   "id": "268f05db",
   "metadata": {},
   "source": [
    "__b)__ Write a regular expression that returns all valid years that are surrounded by whitespaces in a text. A valid year is a 4 digit number in the range from 0000 to 2022. __(2 pts)__  \n",
    "You do not need to account for overlaps, e.g., `' 2023 2024 ' => [2023]` is ok. Bonus points if you do so (`' 2023 2024 ' => [2023,2024]`). __(+2 pts)__"
   ]
  },
  {
   "cell_type": "code",
   "execution_count": 53,
   "id": "d97f7592",
   "metadata": {},
   "outputs": [
    {
     "data": {
      "text/plain": [
       "['1234', '0000', '1987', '2021']"
      ]
     },
     "execution_count": 53,
     "metadata": {},
     "output_type": "execute_result"
    }
   ],
   "source": [
    "def returnValidYear(input):\n",
    "    \"\"\"\n",
    "    This function takes a string as input and returns a list of valid years.\n",
    "    \"\"\"\n",
    "    return re.findall(r'(?<=\\s)[0-1]\\d{3}|20[0-1]\\d|202[0-2](?=\\s)', input)\n",
    "\n",
    "returnValidYear(\"1234 1234 0000 1987 19.92 2021 2023 \")"
   ]
  },
  {
   "cell_type": "markdown",
   "id": "1ea7b9ad",
   "metadata": {},
   "source": [
    "__c)__ Write a regular expression that returns all dates in the format YYYY-MM-DD or YYYY/MM/DD from a given text. Make sure that YYYY is a valid year (see task __b)__), MM is a valid month (01 to 12) and DD is a valid day (01 to 31).\n",
    "There is no need to make sure that e.g. XXXX-02-31 does not exist.  __(2 pts)__"
   ]
  },
  {
   "cell_type": "code",
   "execution_count": 54,
   "id": "a6b07e32",
   "metadata": {},
   "outputs": [
    {
     "name": "stdout",
     "output_type": "stream",
     "text": [
      "(?<=\\s)(?:[0-1]\\d{3}|20[0-1]\\d|202[0-2])(-|/)(?:0[1-9]|1[0-2])\\1(?:0[1-9]|[1-2]\\d|3[0-1])(?=\\s)\n",
      "['1998-02-03', '1998/02/03']\n"
     ]
    }
   ],
   "source": [
    "def returnValidDate(input):\n",
    "    \"\"\"\n",
    "    This function takes a string as input and returns a list of valid dates.\n",
    "    \"\"\"\n",
    "    yearPattern = r'(?:[0-1]\\d{3}|20[0-1]\\d|202[0-2])'\n",
    "    monthPattern = r'(?:0[1-9]|1[0-2])'\n",
    "    dayPattern = r'(?:0[1-9]|[1-2]\\d|3[0-1])'\n",
    "\n",
    "    validDatePattern = f'(?<=\\s){yearPattern}(-|/){monthPattern}\\\\1{dayPattern}(?=\\s)'\n",
    "    print(validDatePattern)\n",
    "    \n",
    "    return [match.group(0) for match in re.finditer(validDatePattern, input)]\n",
    "\n",
    "\n",
    "m_obj = returnValidDate(\"1998 1888 10 01 00 12 1998-02-03 1998/02/03 1998-02/03 19980203\")\n",
    "print(m_obj)\n"
   ]
  },
  {
   "cell_type": "markdown",
   "id": "a035a263",
   "metadata": {},
   "source": [
    "__d)__ Assume you are given a list ``l`` of strings like the one below. Using regular expressions, return a list that contains all elements from ``l`` that don't contain both, the letter ``a`` and ``e`` and store the result in a variable ``l_filtered``.  __(2 pts)__\n",
    "\n",
    "__Example:__ _given the list_  \n",
    "\n",
    "``l = [\"apple\", \"cucumber\", \"tomato\", \"zucchini\", \"pumpkin\", \"pear\", \"raspberry\", \"blueberry\"]``  \n",
    "\n",
    "_you should return_  \n",
    "\n",
    "``l_filtered = ['cucumber', 'tomato', 'zucchini', 'pumpkin', 'blueberry']``."
   ]
  },
  {
   "cell_type": "code",
   "execution_count": 55,
   "id": "47106934",
   "metadata": {},
   "outputs": [],
   "source": [
    "# example list\n",
    "l = [\"apple\", \"cucumber\", \"tomato\", \"zucchini\", \"pumpkin\", \"pear\", \"raspberry\", \"blueberry\"]"
   ]
  },
  {
   "cell_type": "code",
   "execution_count": 56,
   "id": "d1325041",
   "metadata": {},
   "outputs": [
    {
     "name": "stdout",
     "output_type": "stream",
     "text": [
      "['cucumber', 'tomato', 'zucchini', 'pumpkin', 'blueberry']\n"
     ]
    }
   ],
   "source": [
    "# your code here\n",
    "def get_no_a_and_e (l: [str]) -> [str]:\n",
    "    return [i for i in l if not re.search(r'a\\w*e|e\\w*a', i)]\n",
    "\n",
    "print(get_no_a_and_e(l))"
   ]
  },
  {
   "cell_type": "markdown",
   "id": "b905ecc7",
   "metadata": {},
   "source": [
    "__e)__ For the given string ``s`` with 4 lines, change the _whole_ word ``pot`` (i.e. ``pottery`` should not be changed) to ``1234`` only if it is at the start of a line.  __(2 pts)__"
   ]
  },
  {
   "cell_type": "code",
   "execution_count": 57,
   "id": "966e2b00",
   "metadata": {},
   "outputs": [],
   "source": [
    "s = '''\\\n",
    "pottery clot pot \n",
    "pot dot plot hot\n",
    "spot rot pot got\n",
    "not shot forgot'''"
   ]
  },
  {
   "cell_type": "code",
   "execution_count": 58,
   "id": "50f05f6e",
   "metadata": {},
   "outputs": [
    {
     "name": "stdout",
     "output_type": "stream",
     "text": [
      "pottery clot pot \n",
      "1234 dot plot hot\n",
      "spot rot pot got\n",
      "not shot forgot\n"
     ]
    }
   ],
   "source": [
    "# your code here\n",
    "def replace_pot_with_1234(s: str) -> str:\n",
    "    return re.sub(r'^pot\\b', '1234', s, flags=re.MULTILINE)\n",
    "\n",
    "print(replace_pot_with_1234(s))"
   ]
  },
  {
   "cell_type": "markdown",
   "id": "be8e4d62",
   "metadata": {},
   "source": [
    "### Task 2: Finding the most similar word (18 pts)\n",
    "The goal of this task is, given a corpus, to find the most similar word for a provided word. As an example we will consider the King James Bible that is is included in the ``gutenberg`` corpus and we are looking to find the word that is most similar to ``god``. We consider two words similar if they appear in the same word context."
   ]
  },
  {
   "cell_type": "markdown",
   "id": "4036fc75",
   "metadata": {},
   "source": [
    "__a) Cleaning the input (3 pts)__\n",
    "\n",
    "Write a function that, given a list of tokens, returns a list of tokens that we consider valid for our task. Moreover, all input tokens should be converted to lower case.\n",
    "\n",
    "An *invalid* token is a token that \n",
    "- is a punctuation mark (consider `string.punctuation`).\n",
    "- is entirely numeric digits (e.g. `\"123\"`)\n",
    "- optionally, if `remove_stopwords=True` then stopwords in the English language are also not considered valid tokens (use nltk's stopwords). \n",
    "\n",
    "Use the function signature specified in the cell below."
   ]
  },
  {
   "cell_type": "code",
   "execution_count": 59,
   "id": "975b8007",
   "metadata": {},
   "outputs": [],
   "source": [
    "import nltk\n",
    "from nltk.corpus.reader.util import StreamBackedCorpusView \n",
    "import string\n",
    "\n",
    "def get_valid_tokens(tokens: Union[List[str], StreamBackedCorpusView], remove_stopwords: bool=False) -> List[str]:\n",
    "    \"\"\"\n",
    "    :param tokens: list of tokens that should be cleaned\n",
    "    :param remove_stopwords: bool indicating if stopwords should be removed \n",
    "                             False by default\n",
    "    :return: list of valid tokens\n",
    "    \"\"\"\n",
    "    \n",
    "    invalid_set = set(string.punctuation)\n",
    "    if remove_stopwords:\n",
    "        invalid_set.update(nltk.corpus.stopwords.words('english'))\n",
    "    return [token.lower() for token in tokens if token.isalpha() and token not in invalid_set]"
   ]
  },
  {
   "cell_type": "markdown",
   "id": "81184587",
   "metadata": {},
   "source": [
    "__b) Counting the surroundings (6 pts)__\n",
    "\n",
    "In our simple model of word similarity we consider words as similar if they are being used in the same context (i.e. they have similar words surrounding them). \n",
    "\n",
    "Implement a function that, given a list of words, returns the count of all words in a designated word's surrounding. The context size indicates how many words to the left and right we consider, i.e. a context size of 1 indicates that we only consider the words immediately before and after a central word to be in its context. \n",
    "\n",
    "Your function should return a dictionary which maps each word $w$ from the input list to a dictionary. The inner dictionary should map each word that appears in the context of the central word $w$ to a number that indicates how often it appears in the context of $w$.\n",
    "\n",
    "Make sure your implementation has linear complexity in the vocabulary / corpus length. Use the function signature specified in the cell below.\n",
    "\n",
    "__Hint:__ Instead of the inner dictionary you can alternatively use `Counter` or `defaultdict` which can be found in the Python module `collections`. Moreover, consider the function ``ngrams`` from ``nltk``.\n",
    "\n",
    "__Example:__ _For the input_\n",
    "`['hi', 'james', 'how', 'are', 'you', 'hello', 'catherine', 'how', 'are', 'you']` _and_ `context_size=1`\n",
    "_we wish to obtain:_\n",
    "```\n",
    "{'hi': {'james': 1},\n",
    " 'james': {'hi': 1, 'how': 1},\n",
    " 'how': {'james': 1, 'are': 2, 'catherine': 1},\n",
    " 'are': {'how': 2, 'you': 2},\n",
    " 'you': {'are': 2, 'hello': 1},\n",
    " 'hello': {'you': 1, 'catherine': 1},\n",
    " 'catherine': {'hello': 1, 'how': 1}}\n",
    "```\n",
    "__Explanation:__ _The word_ `hi` _is only surrounded by_ `james`_. The word_ `james` _is surrounded by_ `hi` _and_ `how` _. The word_ `how` _is surrounded by_ `james`_, by_ `catherine` _and by_ `are` _twice, ..._\n",
    "\n",
    "_For_ `contextsize=2` _we obtain:_\n",
    "```\n",
    "{'hi': {'james': 1, 'how': 1},\n",
    "'james': {'hi': 1, 'how': 1, 'are': 1},\n",
    "'how': {'are': 2, 'you': 2, 'hi': 1, 'james': 1, 'hello': 1, 'catherine': 1},\n",
    "'are': {'how': 2, 'you': 2, 'james': 1, 'hello': 1, 'catherine': 1},\n",
    "'you': {'how': 2, 'are': 2, 'hello': 1, 'catherine': 1},\n",
    "'hello': {'are': 1, 'you': 1, 'catherine': 1, 'how': 1},\n",
    "'catherine': {'you': 1, 'hello': 1, 'how': 1, 'are': 1}}\n",
    "```"
   ]
  },
  {
   "cell_type": "code",
   "execution_count": 60,
   "id": "6a911633",
   "metadata": {},
   "outputs": [],
   "source": [
    "from collections import Counter\n",
    "def get_surrounding_counts(tokens: Union[List[str], StreamBackedCorpusView], context_size: int) -> Dict[str, Dict[str, int]]:\n",
    "    \"\"\"\n",
    "    :param tokens: list of tokens\n",
    "    :param context_size: integer that indicates the number of context words that are considered on both sides of the central word\n",
    "    :return: dict of dicts that holds the count of context words for each input token\n",
    "    \"\"\"\n",
    "    counts = {}\n",
    "    for i, token in enumerate(tokens):\n",
    "        if token not in counts:\n",
    "            counts[token] = Counter(tokens[max(0, i-context_size):i] + tokens[i+1:i+context_size+1])\n",
    "        else:\n",
    "            counts[token].update(tokens[max(0, i-context_size):i] + tokens[i+1:i+context_size+1])\n",
    "    return counts"
   ]
  },
  {
   "cell_type": "markdown",
   "id": "841e226d",
   "metadata": {},
   "source": [
    "__c) Keeping the top $k$ words in context (2 pts)__\n",
    "\n",
    "To reduce the size of our result from task __b)__, we will only consider the most frequent context words for each token. Therefore, write a function that keeps only the $k$ most frequent words in the context of a designated word. Ties are resolved in lexicographic order (e.g. _**A**braham_ would be preferred to _**B**ethlehem_). The function should return a dictionary that maps each word in the outer dictionary to a __set__ of their top $k$ most frequent context words."
   ]
  },
  {
   "cell_type": "code",
   "execution_count": 61,
   "id": "106f0d69",
   "metadata": {},
   "outputs": [],
   "source": [
    "def to_sets(context_dict: Dict[str, Dict[str, int]], k: int) -> Dict[str, Set[str]]:\n",
    "    \"\"\"\n",
    "    :param context_dict: dict of dicts that holds the count of context words for each word\n",
    "    :param k: integer that specifies how many context words should be kept\n",
    "    :return: dict that maps each word to a set of its k most frequent context words\n",
    "    \"\"\"    \n",
    "    result = {}\n",
    "    \n",
    "    for word, context_counts in context_dict.items():\n",
    "        # Sort context words by frequency in descending order and then lexicographically\n",
    "        sorted_context = sorted(context_counts.keys(), key=lambda x: (-context_counts[x], x))\n",
    "        \n",
    "        # Select the top k context words\n",
    "        top_k_context = sorted_context[:k]\n",
    "        \n",
    "        # Store the selected context words in a set\n",
    "        result[word] = set(top_k_context)\n",
    "    \n",
    "    return result"
   ]
  },
  {
   "cell_type": "markdown",
   "id": "fc84aa14",
   "metadata": {},
   "source": [
    "__d) Finding the most similar words (4 pts)__\n",
    "\n",
    "Given a dictionary as obtained in task __c)__ and a word $w$, we want to find the words that have the highest similarity to $w$ in terms of their context. We operationalize context similarity with the Jaccard index (https://en.wikipedia.org/wiki/Jaccard_index).\n",
    "The Jaccard index of two sets $A$ and $B$ (in our case the sets of context words) is defined as:\n",
    "\n",
    "$J(A, B) = \\frac{|A \\cap B|}{|A \\cup B|}$\n",
    "\n",
    "Write a function that returns the words that have the highest similarity to an input word $w$ (ignoring the input word itself). Since several words may have the same Jaccard similarity to the input word, your function should return the set of words that are most similar to $w$ and the respective value of the Jaccard similarity. Use the function signature specified in the cell below."
   ]
  },
  {
   "cell_type": "code",
   "execution_count": 62,
   "id": "860e680a",
   "metadata": {},
   "outputs": [],
   "source": [
    "def find_most_similar_words(input_word: str, contexts: Dict[str, Set[str]]) -> (Set[str], float):\n",
    "    \"\"\"\n",
    "    :param input_word: string that represents the word we are interested in\n",
    "    :param contexts: dict that maps each word to a set of its most frequent context words\n",
    "    :returns: \n",
    "        - set of the most similar words to the input word\n",
    "        - float that indicates the highest Jaccard similarity to the input word\n",
    "    \"\"\"\n",
    "    max_sim = 0\n",
    "    most_similar_words = set()\n",
    "    for word in contexts:\n",
    "        if word == input_word:\n",
    "            continue\n",
    "        jaccard_sim = len(contexts[input_word].intersection(contexts[word])) / len(contexts[input_word].union(contexts[word]))\n",
    "        if jaccard_sim > max_sim:\n",
    "            max_sim = jaccard_sim\n",
    "            most_similar_words = {word}\n",
    "        elif jaccard_sim == max_sim:\n",
    "            most_similar_words.add(word)\n",
    "\n",
    "    return most_similar_words, max_sim"
   ]
  },
  {
   "cell_type": "markdown",
   "id": "eca0214f",
   "metadata": {},
   "source": [
    "__e) Bringing it all together (3 pts)__\n",
    "\n",
    "Finally, we want to apply our functions to the King James Bible (`'bible-kjv.txt'`) that is part of the ``gutenberg`` corpus. We intend to find the word(s) that is (are) most similar to ``god``. Follow the steps below:\n",
    "\n",
    "i) Obtain a list of all tokens from the King James Bible and store it in a variable ``tokens``.  \n",
    "\n",
    "ii) Clean the list of tokens with your function from __a)__ to get the list of valid tokens (without removing stopwords) and store it in a variable ``valid_tokens``.  \n",
    "\n",
    "iii) Apply your function from __b)__ to count the context words for all valid tokens with a ``context_size`` of 2 and store the result in a variable ``context_counts``.  \n",
    "\n",
    "iv) Using your function from __c)__, keep only the 20 most frequent words in a valid tokens context and store the result in a variable ``context_words``.  \n",
    "\n",
    "v) Finally, find the most similar words to the word _god_ with your function from __d)__ and store the set of most similar words in the variable ``set_god`` and the highest Jaccard similarity in the variable ``sim_god``.  "
   ]
  },
  {
   "cell_type": "code",
   "execution_count": 63,
   "id": "8cfb84ee",
   "metadata": {},
   "outputs": [
    {
     "name": "stdout",
     "output_type": "stream",
     "text": [
      "10 first valid tokens of the king james bible:\n",
      "['the', 'king', 'james', 'bible', 'the', 'old', 'testament', 'of', 'the', 'king']\n",
      "\n",
      "5 most common context counts for the word 'god':\n",
      "[('of', 1690), ('the', 1270), ('lord', 1261), ('and', 895), ('thy', 396)]\n",
      "\n",
      "20 most common context words for the word 'god':\n",
      "{'and', 'i', 'to', 'unto', 'is', 'thy', 'which', 'of', 'he', 'your', 'my', 'for', 'in', 'lord', 'the', 'our', 'that', 'israel', 'o', 'hath'}\n",
      "\n",
      "The most similar word(s) to god is:  {'lord', 'father'}  with a similarity of:  0.6\n"
     ]
    }
   ],
   "source": [
    "# your code here\n",
    "king_james_bible = nltk.corpus.gutenberg.raw('bible-kjv.txt')\n",
    "king_james_bible_tokens = nltk.word_tokenize(king_james_bible)\n",
    "\n",
    "valid_tokens = get_valid_tokens(king_james_bible_tokens)\n",
    "print(\"10 first valid tokens of the king james bible:\", valid_tokens[:10], sep='\\n', end='\\n\\n')\n",
    "\n",
    "context_counts = get_surrounding_counts(valid_tokens, context_size=2)\n",
    "print(\"5 most common context counts for the word 'god':\", context_counts['god'].most_common(5), sep='\\n', end='\\n\\n')\n",
    "\n",
    "context_words = to_sets(context_counts, k=20)\n",
    "print(\"20 most common context words for the word 'god':\", context_words['god'], sep='\\n', end='\\n\\n')\n",
    "\n",
    "set_god, sim_god = find_most_similar_words('god', context_words)\n",
    "print(\"The most similar word(s) to god is: \", set_god, \" with a similarity of: \", round(sim_god, 4))\n"
   ]
  },
  {
   "cell_type": "markdown",
   "id": "c303e077",
   "metadata": {},
   "source": [
    "### Task 3: Minimum cost string alignment (8 pts)\n",
    "\n",
    "In this tak we want to compute an alignment between two strings, that has minimum edit distance. \n",
    "\n",
    "Implement a function that takes two strings and their edit distance matrix and returns a minimum cost alignment. You can assume that the edit distance matrix is provided by the function that you implemented in exercise 3, task 2, with a substitution cost of 2. \n",
    "\n",
    "A minimum cost alignment consists of two strings that, printed below each other comprise the alignment, where insertions and deletions are represented by a ``*``. Use the function signature in the cell below.\n",
    "\n",
    "__Example:__ _Given the input strings_ ``\"INTENTION\"`` _and_ ``\"EXECUTION\"`` _and the corresponding edit distance matrix:_\n",
    "\n",
    "``[[ 0  1  2  3  4  5  6  7  8  9]\n",
    " [ 1  2  3  4  5  6  7  6  7  8]\n",
    " [ 2  3  4  5  6  7  8  7  8  7]\n",
    " [ 3  4  5  6  7  8  7  8  9  8]\n",
    " [ 4  3  4  5  6  7  8  9 10  9]\n",
    " [ 5  4  5  6  7  8  9 10 11 10]\n",
    " [ 6  5  6  7  8  9  8  9 10 11]\n",
    " [ 7  6  7  8  9 10  9  8  9 10]\n",
    " [ 8  7  8  9 10 11 10  9  8  9]\n",
    " [ 9  8  9 10 11 12 11 10  9  8]]``,\n",
    "  \n",
    "_your function should return the two strings_ ``INTE***NTION`` _and_ ``***EXECUTION`` _that represent the alignment, when printed below each other:_\n",
    " \n",
    " ``INTE***NTION``    \n",
    " ``***EXECUTION`` \n",
    " \n",
    " __Remark:__ _The alignment in the example above is not the only solution. In this task all alignments with minimum edit distance are accepted._\n"
   ]
  },
  {
   "cell_type": "code",
   "execution_count": 64,
   "id": "11310289",
   "metadata": {},
   "outputs": [],
   "source": [
    "def get_alignment(str1: str, str2: str, D: NDArray[NDArray[int]],cost_of_substitute) -> (str, str, NDArray[NDArray[str]]): \n",
    "    '''\n",
    "    :param str1: first string for alignment\n",
    "    :param str2: second string for alignment\n",
    "    :param D: edit distance matrix of str1 and str2\n",
    "    :returns: tuple of strings that indicate the alignment of the input strings\n",
    "    '''\n",
    "    i = len(str1)\n",
    "    j = len(str2)\n",
    "    str1_aligned = \"\"\n",
    "    str2_aligned = \"\"\n",
    "    grid = np.array([[\" \" for _ in range(j+1)] for _ in range(i+1)]) #grid added to visualize path in matrix\n",
    "    cost_of_insertion = 1\n",
    "    cost_of_deletion = 1\n",
    "\n",
    "    while i+j > 0:\n",
    "        if i > 0 and j > 0 and str1[i-1] == str2[j-1]:\n",
    "            # substitution with no penalty\n",
    "            str1_aligned += str1[i-1]\n",
    "            str2_aligned += str2[j-1] \n",
    "            grid[i][j] = \"↖\"\n",
    "            i -= 1\n",
    "            j -= 1\n",
    "        elif i > 0 and D[i][j] == D[i-1][j] + cost_of_deletion:\n",
    "            # deletion\n",
    "            str1_aligned += str1[i-1] \n",
    "            str2_aligned +=  \"*\"\n",
    "            grid[i][j] = \"↑\"\n",
    "            i -= 1\n",
    "        elif j > 0 and D[i][j] == D[i][j-1] + cost_of_insertion:\n",
    "            # insertion\n",
    "            str1_aligned +=  \"*\"\n",
    "            str2_aligned += str2[j-1] \n",
    "            grid[i][j] = \"←\"\n",
    "            j -= 1\n",
    "        elif i> 0 and j>0 and D[i][j] == D[i-1][j-1] + cost_of_substitute:\n",
    "            # substitution with cost\n",
    "            str1_aligned += str1[i-1] \n",
    "            str2_aligned += str2[j-1] \n",
    "            grid[i][j] = \"s\"\n",
    "            i -= 1\n",
    "            j -= 1\n",
    "        \n",
    "    grid[0][0] = \"☺\"\n",
    "    return str1_aligned[::-1], str2_aligned[::-1], grid   "
   ]
  },
  {
   "cell_type": "code",
   "execution_count": 65,
   "id": "9e079add",
   "metadata": {},
   "outputs": [],
   "source": [
    "# for testing purposes\n",
    "def edit_distance(str1: str, str2: str, cost_of_substitute: int=2) -> Tuple[int, NDArray]:\n",
    "    '''\n",
    "    :param str1: source string \n",
    "    :param str2: target string\n",
    "    :cost_of_substitute: cost for substituting mismatching letters \n",
    "    :returns:\n",
    "        - minimum edit distance of str1 and str2\n",
    "        - minimum edit distance table\n",
    "    '''\n",
    "    n = len(str1)\n",
    "    m = len(str2)\n",
    "    D = np.zeros((n+1, m+1), dtype=int)\n",
    "    \n",
    "    for i in range(n+1):\n",
    "        D[i][0] = i\n",
    "    for j in range(m+1):\n",
    "        D[0][j] = j\n",
    "    \n",
    "    for i in range(1,n+1):\n",
    "        for j in range(1,m+1):\n",
    "            substitution_cost = 0 if str1[i-1] == str2[j-1] else cost_of_substitute \n",
    "            deletion = D[i-1][j]+1\n",
    "            insertion = D[i][j-1]+1\n",
    "            substitution = D[i-1][j-1] + substitution_cost\n",
    "            D[i][j]= min([deletion,insertion,substitution])\n",
    "\n",
    "    return D[n][m], D"
   ]
  },
  {
   "cell_type": "code",
   "execution_count": 66,
   "id": "fabbf343",
   "metadata": {},
   "outputs": [
    {
     "name": "stdout",
     "output_type": "stream",
     "text": [
      "Cost matrix:\n",
      "[[ 0  1  2  3  4  5  6  7  8  9]\n",
      " [ 1  2  3  4  5  6  7  6  7  8]\n",
      " [ 2  3  4  5  6  7  8  7  8  7]\n",
      " [ 3  4  5  6  7  8  7  8  9  8]\n",
      " [ 4  3  4  5  6  7  8  9 10  9]\n",
      " [ 5  4  5  6  7  8  9 10 11 10]\n",
      " [ 6  5  6  7  8  9  8  9 10 11]\n",
      " [ 7  6  7  8  9 10  9  8  9 10]\n",
      " [ 8  7  8  9 10 11 10  9  8  9]\n",
      " [ 9  8  9 10 11 12 11 10  9  8]]\n",
      "\n",
      "Alignment:\n",
      "**inte**ntion\n",
      "ex***ecu*tion\n",
      "\n",
      "Path:\n",
      "[['☺' '←' '←' ' ' ' ' ' ' ' ' ' ' ' ' ' ']\n",
      " [' ' ' ' '↑' ' ' ' ' ' ' ' ' ' ' ' ' ' ']\n",
      " [' ' ' ' '↑' ' ' ' ' ' ' ' ' ' ' ' ' ' ']\n",
      " [' ' ' ' '↑' ' ' ' ' ' ' ' ' ' ' ' ' ' ']\n",
      " [' ' ' ' ' ' '↖' '←' '←' ' ' ' ' ' ' ' ']\n",
      " [' ' ' ' ' ' ' ' ' ' '↑' ' ' ' ' ' ' ' ']\n",
      " [' ' ' ' ' ' ' ' ' ' ' ' '↖' ' ' ' ' ' ']\n",
      " [' ' ' ' ' ' ' ' ' ' ' ' ' ' '↖' ' ' ' ']\n",
      " [' ' ' ' ' ' ' ' ' ' ' ' ' ' ' ' '↖' ' ']\n",
      " [' ' ' ' ' ' ' ' ' ' ' ' ' ' ' ' ' ' '↖']]\n"
     ]
    }
   ],
   "source": [
    "cost_of_substitute=2\n",
    "D= edit_distance(\"intention\", \"execution\", cost_of_substitute)\n",
    "print(\"Cost matrix:\")\n",
    "print(D[1])\n",
    "str1,str2,path = get_alignment(\"intention\", \"execution\", D[1], cost_of_substitute)\n",
    "print(\"\\nAlignment:\")\n",
    "print(str1)\n",
    "print(str2)\n",
    "print(\"\\nPath:\")\n",
    "print(path)\n"
   ]
  },
  {
   "cell_type": "code",
   "execution_count": null,
   "id": "b8a46c2f",
   "metadata": {},
   "outputs": [],
   "source": []
  }
 ],
 "metadata": {
  "kernelspec": {
   "display_name": "Python 3 (ipykernel)",
   "language": "python",
   "name": "python3"
  },
  "language_info": {
   "codemirror_mode": {
    "name": "ipython",
    "version": 3
   },
   "file_extension": ".py",
   "mimetype": "text/x-python",
   "name": "python",
   "nbconvert_exporter": "python",
   "pygments_lexer": "ipython3",
   "version": "3.10.6"
  }
 },
 "nbformat": 4,
 "nbformat_minor": 5
}
