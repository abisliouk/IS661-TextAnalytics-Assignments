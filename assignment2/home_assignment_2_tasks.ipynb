{
 "cells": [
  {
   "cell_type": "markdown",
   "id": "c295abce",
   "metadata": {},
   "source": [
    "Text Analytics I HWS 23/24\n",
    "\n",
    "# Home Assignment 2 (26 pts)\n",
    "\n",
    "Submit your solution via Ilias until 23.59h on Wednesday, October 25th. Late submissions are accepted until 12:00am on the following day, with 1/4 of the total possible points deducted from the score.\n",
    "\n",
    "Submit your solutions in teams of 3-4 students. Unless explicitly agreed otherwise in advance, **submissions from teams with more or less members will NOT be graded**.\n",
    "List all members of the team with their student ID in the cell below, and submit only one notebook per team. Only submit a notebook, do not submit the dataset(s) you used. Also, do NOT compress/zip your submission!\n",
    "\n",
    "You may use the code from the exercises and basic functionalities that are explained in official documentation of Python packages without citing, __all other sources must be cited__. In case of plagiarism (copying solutions from other teams or from the internet) ALL team members may be expelled from the course without warning.\n",
    "\n",
    "#### General guidelines:\n",
    "* Make sure that your code is executable, any task for which the code does not directly run on our machine will be graded with 0 points.\n",
    "* If you use packages that are not available on the default or conda-forge channel, list them below. Also add a link to installation instructions. \n",
    "* Ensure that the notebook does not rely on the current notebook or system state!\n",
    "  * Use `Kernel --> Restart & Run All` to see if you are using any definitions, variables etc. that \n",
    "    are not in scope anymore.\n",
    "  * Do not rename any of the datasets you use, and load it from the same directory that your ipynb-notebook is located in, i.e., your working directory.\n",
    "* Make sure you clean up your code before submission, e.g., properly align your code, and delete every line of code that you do not need anymore, even if you may have experimented with it. Minimize usage of global variables. Avoid reusing variable names multiple times!\n",
    "* Ensure your code/notebook terminates in reasonable time.\n",
    "* Feel free to use comments in the code. While we do not require them to get full marks, they may help us in case your code has minor errors.\n",
    "* For questions that require a textual answer, please do not write the answer as a comment in a code cell, but in a Markdown cell below the code. Always remember to provide sufficient justification for all answers.\n",
    "* You may create as many additional cells as you want, just make sure that the solutions to the individual tasks can be found near the corresponding assignment.\n",
    "* If you have any general question regarding the understanding of some task, do not hesitate to post in the student forum in Ilias, so we can clear up such questions for all students in the course."
   ]
  },
  {
   "cell_type": "code",
   "execution_count": 1,
   "id": "29e66e9f",
   "metadata": {},
   "outputs": [],
   "source": [
    "# studentIDs of all team members\n",
    "team_members = [1966868,1967897, 1968154, 1978986, 1951865  ]"
   ]
  },
  {
   "cell_type": "markdown",
   "id": "d7a19c09",
   "metadata": {},
   "source": [
    "Additional packages (if any):\n",
    " - Example: `powerlaw`, https://github.com/jeffalstott/powerlaw"
   ]
  },
  {
   "cell_type": "code",
   "execution_count": 2,
   "id": "7c5e2d05",
   "metadata": {},
   "outputs": [],
   "source": [
    "from typing import List, Union, Dict, Set, Tuple, Sequence"
   ]
  },
  {
   "cell_type": "markdown",
   "id": "91edf14c",
   "metadata": {},
   "source": [
    "### Task 1: WordNet word similarity (9 points)\n",
    "\n",
    "In this task, we want to implement the similarity between two words in WordNet (https://www.nltk.org/api/nltk.corpus.reader.wordnet.html) using the NLTK package. The word similarity between two words is given by\n",
    "$$\n",
    "\\frac{1}{1+d}\n",
    "$$\n",
    "where $d$ is the distance of the shortest path in the hypernym/hyponym hierarchy tree in WordNet between any pair of synsets that are associated with the two input words.\n",
    "\n",
    "From NLTK you should __only__ use the `synsets`, `hypernyms` and `instance_hpyernyms` functions.\n",
    "\n",
    "The following subtasks build on each other, i.e. the functions of the preceding subtasks can be used for the current subtask.\n",
    "\n",
    "_Note: the distance of a synset to itself is 0, the distance to a direct hypernym is 1, ..._"
   ]
  },
  {
   "cell_type": "code",
   "execution_count": 3,
   "id": "7f2b0d09",
   "metadata": {},
   "outputs": [],
   "source": [
    "from nltk.corpus import wordnet as wn\n",
    "from nltk.corpus.reader.wordnet import Synset"
   ]
  },
  {
   "cell_type": "markdown",
   "id": "f3a6c82f",
   "metadata": {},
   "source": [
    "__a)__ Write a function ``shortest_paths_to`` that takes a synset as input and computes the shortest paths to all nodes on the way to the root in the hypernym hierarchy tree of WordNet. The function should return a dictionary that matches all visited hypernyms on the way(s) to the root to the distance of the shortest path from the input synset. Consider that a synset might have multiple paths to the root and that some nodes might appear in multiple paths. However, we only want to store the shortest distances. Moreover, keep in mind that the input synset might be an instance. __(3 pts)__\n",
    "\n",
    "Use the signature in the cell below.\n",
    "\n",
    "__Example:__ _Calling_ ``shortest_paths_to(s)`` _on the synset_ ``s = wn.synset('calculator.n.01')`` _should yield the following result:_\n",
    "\n",
    "``\n",
    "{Synset('calculator.n.01'): 0,\n",
    " Synset('expert.n.01'): 1,\n",
    " Synset('person.n.01'): 2,\n",
    " Synset('causal_agent.n.01'): 3,\n",
    " Synset('organism.n.01'): 3,\n",
    " Synset('physical_entity.n.01'): 4,\n",
    " Synset('living_thing.n.01'): 4,\n",
    " Synset('entity.n.01'): 5,\n",
    " Synset('whole.n.02'): 5,\n",
    " Synset('object.n.01'): 6}\n",
    "``"
   ]
  },
  {
   "cell_type": "code",
   "execution_count": 4,
   "id": "c9d66e04",
   "metadata": {},
   "outputs": [
    {
     "data": {
      "text/plain": [
       "{Synset('dog.n.01'): 0,\n",
       " Synset('canine.n.02'): 1,\n",
       " Synset('domestic_animal.n.01'): 1,\n",
       " Synset('carnivore.n.01'): 2,\n",
       " Synset('animal.n.01'): 2,\n",
       " Synset('placental.n.01'): 3,\n",
       " Synset('organism.n.01'): 3,\n",
       " Synset('mammal.n.01'): 4,\n",
       " Synset('living_thing.n.01'): 4,\n",
       " Synset('vertebrate.n.01'): 5,\n",
       " Synset('whole.n.02'): 5,\n",
       " Synset('chordate.n.01'): 6,\n",
       " Synset('object.n.01'): 6,\n",
       " Synset('physical_entity.n.01'): 7,\n",
       " Synset('entity.n.01'): 8}"
      ]
     },
     "execution_count": 4,
     "metadata": {},
     "output_type": "execute_result"
    }
   ],
   "source": [
    "def shortest_paths_to(start_syn: Synset) -> Dict[Synset, int]:\n",
    "    \"\"\"Compute the shortest distance to all nodes on paths to the root.\n",
    "    :param start_syn: synset to which we want to compute the shortest distances\n",
    "    :return: dict that matches all visited hypernyms to their distance to the input synset  \n",
    "    \"\"\" \n",
    "    # Initialize a queue for BFS\n",
    "    queue = [start_syn]\n",
    "    # Initialize a dictionary to store distances\n",
    "    distances = {start_syn: 0}\n",
    "    \n",
    "    # BFS Algorithm\n",
    "    while queue:\n",
    "        # Get the next synset from the queue\n",
    "        current_syn = queue.pop(0)\n",
    "        \n",
    "        # Find hypernyms of the current synset\n",
    "        hypernyms = current_syn.hypernyms()\n",
    "        \n",
    "        for hypernym in hypernyms:\n",
    "            # whether the hypernym has been visited or processed\n",
    "            if hypernym not in distances:\n",
    "                # If this hypernym has not been visited before, add it to the queue\n",
    "                queue.append(hypernym)\n",
    "                # Compute the distance from the current synset to this hypernym\n",
    "                distances[hypernym] = distances[current_syn] + 1\n",
    "    \n",
    "    return distances\n",
    "\n",
    "shortest_paths_to(wn.synset('dog.n.01'))"
   ]
  },
  {
   "cell_type": "markdown",
   "id": "3fda6f14",
   "metadata": {},
   "source": [
    "__b)__ Write a function ``merge_paths`` that gets two dictionaries that map synsets to shortest distances (you can assume they were created by the function from __a)__) and merges them. The function shold return a dictionary that includes all synsets and distances that appear in any of the input dictionaries. If a synset appears in both input dictionaries, we want to keep the shorter distance. Leave the input dictionaries unaltered. __(1.5 pts)__\n",
    "\n",
    "Use the signature in the cell below."
   ]
  },
  {
   "cell_type": "code",
   "execution_count": 5,
   "id": "41ffe524",
   "metadata": {},
   "outputs": [],
   "source": [
    "def merge_paths(p1: Dict[Synset, int], p2: Dict[Synset, int]) -> Dict[Synset, int]:\n",
    "    \"\"\"Merge two paths keeping the shorter distance for synsets that appear more than once.\n",
    "    :param p1: first dict that maps synsets to their shortest distances\n",
    "    :param p2: second dict that maps synsets to their shortest distances\n",
    "    :return: merged dict\n",
    "    \"\"\"\n",
    "    merged = p1\n",
    "    for key in p2:\n",
    "        if key not in merged:\n",
    "            merged[key] = p2[key]\n",
    "        elif merged[key] > p2[key]:\n",
    "            merged[key] = p2[key]\n",
    "    return merged"
   ]
  },
  {
   "cell_type": "markdown",
   "id": "ade7ce46",
   "metadata": {},
   "source": [
    "__c)__ Write a function ``all_hypernym_paths`` that gets a word as input and returns a dictionary that maps all hypernyms that are reachable from the set of synsets associated with the word to the shortest distance leading there. __(1.5 pts)__\n",
    "\n",
    "Use the signature in the cell below."
   ]
  },
  {
   "cell_type": "code",
   "execution_count": 6,
   "id": "13112dc7",
   "metadata": {},
   "outputs": [],
   "source": [
    "def all_hypernym_paths(word: str) -> Dict[Synset, int]:\n",
    "    \"\"\"Get all hypernyms of all synsets associated with the input word and compute the shortest distance leading there.\n",
    "    :param word: input word\n",
    "    :return: dict that matches all reachable hypernyms to their shortest distance \n",
    "    \"\"\"    \n",
    "    synsets = wn.synsets(word)  # Get all synsets associated with the input word\n",
    "    hypernym_paths = {}  # Initialize a dictionary to store hypernym paths\n",
    "\n",
    "    for synset in synsets:\n",
    "        # Compute the shortest paths to hypernyms for each synset\n",
    "        synset_paths = shortest_paths_to(synset)\n",
    "        \n",
    "        # Merge the computed paths into the hypernym_paths dictionary\n",
    "        hypernym_paths = merge_paths(hypernym_paths, synset_paths)\n",
    "\n",
    "    return hypernym_paths"
   ]
  },
  {
   "cell_type": "markdown",
   "id": "49270f8b",
   "metadata": {},
   "source": [
    "__d)__  Write a function ``get_dist`` that returns the word similarity between two input words, according to the formula given in the task description at the beginning.  __(3 pts)__\n",
    "\n",
    "Use the signature in the cell below."
   ]
  },
  {
   "cell_type": "code",
   "execution_count": 7,
   "id": "b0a4e8dc",
   "metadata": {},
   "outputs": [
    {
     "name": "stdout",
     "output_type": "stream",
     "text": [
      "0.125\n"
     ]
    }
   ],
   "source": [
    "def get_dist(w1 : str, w2 : str) -> float:\n",
    "    \"\"\"Compute the similarity between two input words in the WordNet hierarchy tree.\n",
    "    :param w1: first input word\n",
    "    :param w2: second input word\n",
    "    :return: word similarity\n",
    "    \"\"\"\n",
    "    all_paths_w1 = all_hypernym_paths(w1)\n",
    "    all_paths_w2 = all_hypernym_paths(w2)\n",
    "    common_hypernyms = set(all_paths_w1.keys()).intersection(set(all_paths_w2.keys()))\n",
    "    if len(common_hypernyms) == 0:\n",
    "        return 0.0\n",
    "    else:\n",
    "        return 1 / (1+min([all_paths_w1[hypernym] + all_paths_w2[hypernym] for hypernym in common_hypernyms]))\n",
    "    \n",
    "\n",
    "print(get_dist('dog', 'house'))"
   ]
  },
  {
   "cell_type": "markdown",
   "id": "3426121d",
   "metadata": {},
   "source": [
    "### Task 2: Lesk algorithm (4 points)\n",
    "\n",
    "In this task we want to implement a simple version of the Lesk algorithm, a thesaurus-based method for word sense disambiguation. Given a target word $w$ and a context, the algorithm finds the word sense that is most fitting in the context. To achieve this, the Lesk algorithm computes the number of overlapping words between the context sentence and the definitions of the WordNet synsets, associated with $w$.\n",
    "\n",
    "Write a function ``lesk`` that takes a word and a context string (e.g. a sentence) and returns the most fitting sense from the synsets associated with the word and the corresponding context overlap. The most fitting sense is the one whose definition shares the most words with the context string. Before matching tokens, make sure to \n",
    "\n",
    "* only include valid tokens (cf. HA 1, task 2a)\n",
    "* remove stopwords\n",
    "* only match stems of words (e.g. consider the ``PorterStemmer`` from ``nltk``)\n",
    "\n",
    "When computing the context overlap, count each stemmed word only once, even if they occur multiple times. If there is no fitting synset, i.e. the context overlap between the context and the synset definitions is 0, return None instead.\n",
    "\n",
    "Use the signature in the cell below."
   ]
  },
  {
   "cell_type": "code",
   "execution_count": 8,
   "id": "055d9147",
   "metadata": {},
   "outputs": [],
   "source": [
    "# HA 1, task 2a)\n",
    "from nltk.corpus.reader.util import StreamBackedCorpusView \n",
    "from nltk.corpus import stopwords\n",
    "import re\n",
    "import string\n",
    "\n",
    "def get_valid_tokens(tokens: Union[List[str], StreamBackedCorpusView], remove_stopwords: bool=False) -> List[str]:\n",
    "    \"\"\"\n",
    "    :param tokens: list of tokens that should be cleaned\n",
    "    :param remove_stopwords: bool indicating if stopwords should be removed \n",
    "                             False by default\n",
    "    :return: list of valid tokens\n",
    "    \"\"\"\n",
    "    valid = []\n",
    "    punct = string.punctuation\n",
    "    stop = stopwords.words('english')\n",
    "    digit = re.compile(r\"\\d+\")\n",
    "    \n",
    "    for t in tokens:\n",
    "        if t in punct:\n",
    "            continue\n",
    "        if remove_stopwords and t.lower() in stop:\n",
    "            continue\n",
    "        if re.fullmatch(digit, t):\n",
    "            continue\n",
    "        valid.append(t.lower())\n",
    "    return valid"
   ]
  },
  {
   "cell_type": "code",
   "execution_count": 9,
   "id": "054adffc",
   "metadata": {},
   "outputs": [],
   "source": [
    "from nltk import PorterStemmer, word_tokenize\n",
    "\n",
    "def lesk(word: str, context: str) -> (Synset, int):\n",
    "    '''\n",
    "    Compute the most probable sense of a word in the given context.\n",
    "    :param word: ambiguous word\n",
    "    :param context: context in which the word appears\n",
    "    :returns: \n",
    "        - synset with the most likely word sense\n",
    "        - context overlap of synset and context          \n",
    "    '''\n",
    "    \n",
    "    # Tokenize and stem the context\n",
    "    context_tokens = get_valid_tokens(context.split(), remove_stopwords=True)\n",
    "    stemmer = PorterStemmer() # reduce words to their base or root form\n",
    "    context_stems = [stemmer.stem(token) for token in context_tokens]\n",
    "\n",
    "    # Find synsets for the word\n",
    "    synsets = wn.synsets(word)\n",
    "\n",
    "    if not synsets:\n",
    "        return None  # No fitting synsets, return None\n",
    "\n",
    "    # Initialize variables to store the best sense and its overlap\n",
    "    best_sense = None\n",
    "    best_overlap = 0\n",
    "\n",
    "    # Iterate through the synsets and find the best sense\n",
    "    for synset in synsets:\n",
    "        # Tokenize and stem the definition of the synset\n",
    "        definition = synset.definition()\n",
    "        definition_tokens = get_valid_tokens(word_tokenize(definition), remove_stopwords=True)\n",
    "        definition_stems = [stemmer.stem(token) for token in definition_tokens]\n",
    "\n",
    "        # Calculate the context overlap between context and synset definition\n",
    "        overlap = len(set(context_stems).intersection(definition_stems))\n",
    "\n",
    "        if overlap > best_overlap:\n",
    "            best_sense = synset\n",
    "            best_overlap = overlap\n",
    "\n",
    "    return best_sense, best_overlap"
   ]
  },
  {
   "cell_type": "code",
   "execution_count": 10,
   "id": "e7241340",
   "metadata": {},
   "outputs": [
    {
     "name": "stdout",
     "output_type": "stream",
     "text": [
      "Synset('depository_financial_institution.n.01')\n",
      "a financial institution that accepts deposits and channels the money into lending activities\n",
      "2\n"
     ]
    }
   ],
   "source": [
    "synset, overlap = lesk(\"bank\", \"I went to the bank to deposit my money\")\n",
    "\n",
    "print(synset)\n",
    "if synset:\n",
    "    print(synset.definition())\n",
    "print(overlap)"
   ]
  },
  {
   "cell_type": "markdown",
   "id": "c3cd2570",
   "metadata": {},
   "source": [
    "### Task 3: Markov chains (13 points)\n",
    "\n",
    "In this task we want to create a language model by using the independence assumption af Markov. We therefore assume that the probability of a word is only dependent on a fixed number of preceding words. E.g. by restricting the number of preceding words to $n$ we can approximate the probability of a word $w_{i}$ following a sequence of words $w_1, ..., w_{i-1}$ by:\n",
    "\n",
    "$P(w_{i}|w_1, ..., w_{i-1}) \\approx P(w_{i}|w_{i-n}, ..., w_{i-1})$\n",
    "\n",
    "We will first train our model on a given corpus and then use it to automatically generate text.\n",
    "\n",
    "Throughout this task we will define a single class with different functions. If you're unsure how to access class methods and attributes, take a look at the documentation (https://docs.python.org/3/tutorial/classes.html)."
   ]
  },
  {
   "cell_type": "markdown",
   "id": "f19633b2",
   "metadata": {},
   "source": [
    "__a) Collecting the counts (3 pts)__\n",
    "\n",
    "Write a function `process_corpus` that takes a corpus of text (as a sequence of tokens) as input and counts how often an n-gram of length $n$ (``context_len=n``) is followed by a certain word (the n-grams should __not__ be padded). The function should return a dictionary that maps every n-gram that is observed in the corpus to an inner dictionary. The inner dictionary maps each word to a number, that indicates how often the word succeeds the n-gram in the given corpus. We will need these counts to compute the conditional probabilities $P(w_{i}|w_{i-n}, ..., w_{i-1})$.\n",
    "Additionally, also return the entire vocabulary $V$ (i.e. the set of all unique tokens that appear in the corpus).\n",
    "\n",
    "Make sure your implementation is efficient by using e.g. ``Counter`` and ``defaultdict`` from the package ``collections``.   \n",
    "\n",
    "__b) Conditional probabilities (3 pts)__\n",
    "\n",
    "Write a function `transition_prob` that takes an n-gram $(w_{i-n}, ..., w_{i-1})$ and a word $w_{i}$ of the vocabulary $V$ as input and returns the conditional probability that the given n-gram is followed by the input word $w_{i}$. Recall that this conditional probability can be computed as follows:\n",
    "\n",
    "$P(w_{i}|w_{i-n}, ..., w_{i-1}) = \\frac{\\text{Count}(w_{i-n}, ..., w_{i-1}, w_{i})}{\\sum_{w \\in V}\\text{Count}(w_{i-n}, ..., w_{i-1}, w)}$\n",
    "\n",
    "If the n-gram has never been observed, return $\\frac{1}{|V|}$.\n",
    "\n",
    "__c) Most likely word (3 pts)__\n",
    "\n",
    "Write a function `most_likely_word` that gets an n-gram as input and returns the word that is most likely to succeed the given n-gram. In case there are multiple words that are equally likely to follow the given n-gram, return all of them. \n",
    "Note that you should **not** loop over the **entire** vocabulary to obtain the most likely word.\n",
    "In case the given n-gram has never been observed, return the entire vocabulary.\n",
    "\n",
    "__d) Generating text (2 pts)__\n",
    "\n",
    "Write a function `generate_text` that generates a text sequence of length `k`, given a starting sequence of words (`ngram`). The function should choose the most likely next word in every step; in case there are multiple equally likely words, randomly choose one. You should return a list of ``k`` words, that includes the starting sequence and is the most probable continuation. \n",
    "\n",
    "\n",
    "Please do not implement other functions for the MarkovModel class.\n",
    "\n",
    "Use the function signatures in the cell below."
   ]
  },
  {
   "cell_type": "code",
   "execution_count": 11,
   "id": "304206ec",
   "metadata": {},
   "outputs": [],
   "source": [
    "from collections import defaultdict, Counter\n",
    "import random\n",
    "from nltk.util import ngrams\n",
    "\n",
    "class MarkovModel():\n",
    "    '''Markov model for generating text.'''\n",
    "    \n",
    "    def __init__(self, tokens: Sequence[str], context_len: int):\n",
    "        '''\n",
    "        :param tokens: text corpus on which the model is trained on as an iterator of tokens\n",
    "        :param context_len: length of the n-gram (number of preceding words)\n",
    "        '''\n",
    "        self.context_len = context_len \n",
    "        self.counts, self.v = self.process_corpus(tokens)\n",
    "        \n",
    "    def process_corpus(self, tokens: Sequence[str]) -> (Dict[Tuple[str, ...], Dict[str, int]], Set):\n",
    "        '''Training method of the model, counts the occurrences of each word after each observed n-gram.\n",
    "        :param tokens: text corpus on which the model is trained on as an iterator of tokens\n",
    "        :returns: \n",
    "            - nested dict that maps each n-gram to the counts of the words succeeding it\n",
    "            - the whole vocabulary as a set\n",
    "        '''\n",
    "        # Initialize a dictionary to store n-gram counts and a set for the vocabulary.\n",
    "        ngram_counts = defaultdict(Counter)\n",
    "        vocabulary = set(tokens)\n",
    "        \n",
    "        # Iterate through the corpus using ngrams, catching following word\n",
    "        for context_ngram in ngrams(tokens, self.context_len + 1):\n",
    "            # Split the n-gram into a context (preceding words) and the current word.\n",
    "            ngram = tuple(context_ngram[:-1])\n",
    "            word = context_ngram[-1]\n",
    "            \n",
    "            # Update the n-gram counts by incrementing the count of the current word following the context.\n",
    "            ngram_counts[ngram][word] += 1\n",
    "        \n",
    "        # Return the n-gram counts and vocabulary set.\n",
    "        return ngram_counts, vocabulary\n",
    "    \n",
    "        \n",
    "    def transition_prob(self, ngram: Tuple[str, ...], word: str) -> float:\n",
    "        '''Compute the conditional probability that the input word follows the given n-gram.\n",
    "        :param ngram: string tuple that represents an n-gram\n",
    "        :param word: input word\n",
    "        :return: probability that the n-gram is followed by the input word\n",
    "        '''\n",
    "        if ngram in self.counts:\n",
    "            ngram_counts = self.counts[ngram]\n",
    "            total_counts = sum(ngram_counts.values())\n",
    "            return ngram_counts[word] / total_counts\n",
    "        return 1.0 / len(self.v)\n",
    "    \n",
    "    def most_likely_word(self, ngram: Tuple[str, ...]) -> Set[str]:\n",
    "        '''Computes which word is most likely to follow a given n-gram.\n",
    "        :param ngram: n-gram we are interested in\n",
    "        return: set of words that are most likely to follow the n-gram\n",
    "        '''\n",
    "        if ngram not in self.counts:\n",
    "            return self.v\n",
    "        return set(k for k,v in self.counts[ngram].most_common())\n",
    "    \n",
    "    def generate_text(self, ngram: Tuple[str, ...], k: int) -> List[str]:\n",
    "        '''Generates a text sequence of length k, given a starting sequence.\n",
    "        :param ngram: starting sequence\n",
    "        :param k: total number of words in the generated sequence\n",
    "        :return: sequence of generated words, including the starting sequence\n",
    "        '''\n",
    "        # Initialize the generated text with the provided starting n-gram\n",
    "        generated_text = list(ngram)\n",
    "\n",
    "        # Generate the remaining words in the sequence\n",
    "        for _ in range(k - len(ngram)):\n",
    "            if ngram in self.counts:\n",
    "                # If the current n-gram is observed, use most_likely_word to get the most likely next word\n",
    "                most_likely_words = self.most_likely_word(ngram)\n",
    "                next_word = random.choice(list(most_likely_words))\n",
    "            else:\n",
    "                # If the current n-gram is not observed, select a random word from the vocabulary\n",
    "                next_word = random.choice(list(self.v))\n",
    "\n",
    "            # Append the selected next word to the generated text\n",
    "            generated_text.append(next_word)\n",
    "\n",
    "            # Update the n-gram by shifting one word forward\n",
    "            ngram = tuple(list(ngram)[1:] + [next_word])\n",
    "\n",
    "        return generated_text"
   ]
  },
  {
   "cell_type": "markdown",
   "id": "1f1f8ee0",
   "metadata": {},
   "source": [
    "__e) Apply the model to a corpus (2 pts)__\n",
    "\n",
    "Finally, we want to apply our functions to the King James Bible (`'bible-kjv.txt'`) that is part of the ``gutenberg`` corpus. Use the function from HA 1, task 2a) to obtain a list of valid tokens (do not remove stopwords) from the King Jame Bible.\n",
    "\n",
    "Initialize the MarkovModel with the list of valid tokens and ``context_len=3`` and answer the following subtasks:\n",
    "\n",
    "i) What is the probability that the word ``babylon`` follows the sequence ``the king of``? \n",
    "\n",
    "ii) What are the most likely words to follow the sequence ``the world is``? \n",
    "\n",
    "iii) Generate a sequence of length 20 that starts with ``mother mary was``.\n"
   ]
  },
  {
   "cell_type": "code",
   "execution_count": 12,
   "id": "199e8f0c",
   "metadata": {},
   "outputs": [
    {
     "name": "stdout",
     "output_type": "stream",
     "text": [
      "The probability of seing 'babylon' after 'the king of' is:  0.18723404255319148\n",
      "The most likely word to follow 'the world is' are: {'mine', 'the', 'enmity', 'gone', 'crucified'}\n",
      "Sentance of length 20 starting with 'Mother mary was':\n",
      "Mother mary was espoused to joseph before they came together she was found with child of gilead that they might.\n"
     ]
    }
   ],
   "source": [
    "import nltk\n",
    "king_james_bible = nltk.corpus.gutenberg.raw('bible-kjv.txt')\n",
    "king_james_bible_tokens = nltk.word_tokenize(king_james_bible)\n",
    "\n",
    "valid_tokens = get_valid_tokens(king_james_bible_tokens)\n",
    "model = MarkovModel(valid_tokens, 3)\n",
    "\n",
    "babylon_prob = model.transition_prob(('the', 'king', 'of'), 'babylon')\n",
    "print(\"The probability of seing 'babylon' after 'the king of' is: \", babylon_prob)\n",
    "\n",
    "the_world_is = model.most_likely_word(('the', 'world', 'is'))\n",
    "is_are = \"is: \"+the_world_is[0] if len(the_world_is) == 1 else \"are: \" + str(the_world_is)\n",
    "print(\"The most likely word to follow 'the world is'\", is_are )\n",
    "\n",
    "generated = model.generate_text(('mother', 'mary', 'was'),20)\n",
    "print(\"Sentance of length 20 starting with 'Mother mary was':\")\n",
    "print(generated[0][0].upper()+generated[0][1:]+' '+' '.join(generated[1:])+'.')"
   ]
  }
 ],
 "metadata": {
  "kernelspec": {
   "display_name": "Python 3 (ipykernel)",
   "language": "python",
   "name": "python3"
  },
  "language_info": {
   "codemirror_mode": {
    "name": "ipython",
    "version": 3
   },
   "file_extension": ".py",
   "mimetype": "text/x-python",
   "name": "python",
   "nbconvert_exporter": "python",
   "pygments_lexer": "ipython3",
   "version": "3.10.6"
  }
 },
 "nbformat": 4,
 "nbformat_minor": 5
}
